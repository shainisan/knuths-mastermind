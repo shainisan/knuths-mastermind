{
 "cells": [
  {
   "cell_type": "code",
   "execution_count": 1,
   "id": "e20c1bce-56b1-4afd-9a3b-86a83a22df5b",
   "metadata": {},
   "outputs": [
    {
     "name": "stdout",
     "output_type": "stream",
     "text": [
      "Guess 1: orange, light blue, orange, yellow\n"
     ]
    },
    {
     "name": "stdin",
     "output_type": "stream",
     "text": [
      "Black pegs (0-4):  0\n",
      "White pegs (0-4):  1\n"
     ]
    },
    {
     "name": "stdout",
     "output_type": "stream",
     "text": [
      "Guess 2: green, blue, yellow, green\n"
     ]
    },
    {
     "name": "stdin",
     "output_type": "stream",
     "text": [
      "Black pegs (0-4):  0\n",
      "White pegs (0-4):  3\n"
     ]
    },
    {
     "name": "stdout",
     "output_type": "stream",
     "text": [
      "Guess 3: yellow, green, blue, blue\n"
     ]
    },
    {
     "name": "stdin",
     "output_type": "stream",
     "text": [
      "Black pegs (0-4):  2\n",
      "White pegs (0-2):  1\n"
     ]
    },
    {
     "name": "stdout",
     "output_type": "stream",
     "text": [
      "Guess 4: yellow, yellow, green, blue\n"
     ]
    },
    {
     "name": "stdin",
     "output_type": "stream",
     "text": [
      "Black pegs (0-4):  3\n",
      "White pegs (0-1):  0\n"
     ]
    },
    {
     "name": "stdout",
     "output_type": "stream",
     "text": [
      "Guess 5: yellow, red, green, blue\n"
     ]
    },
    {
     "name": "stdin",
     "output_type": "stream",
     "text": [
      "Black pegs (0-4):  4\n"
     ]
    },
    {
     "name": "stdout",
     "output_type": "stream",
     "text": [
      "Correct guess!\n"
     ]
    }
   ],
   "source": [
    "# Knuth's Algorithm\n",
    "\n",
    "import itertools\n",
    "import random\n",
    "\n",
    "def awards(guess, code):\n",
    "    black = sum(g == c for g, c in zip(guess, code))\n",
    "    white = sum(min(guess.count(c), code.count(c)) for c in set(guess)) - black\n",
    "    return [black, white]\n",
    "\n",
    "colors = ['blue', 'green', 'red', 'yellow', 'light blue', 'orange']\n",
    "n_spaces = 4\n",
    "\n",
    "S = list(itertools.product(colors, repeat=n_spaces))\n",
    "\n",
    "def printable_guess(guess):\n",
    "    return ', '.join(guess)\n",
    "\n",
    "go = 0\n",
    "playing = True\n",
    "guess = random.choice(S)\n",
    "\n",
    "while playing:\n",
    "    print(f'Guess {go + 1}: {printable_guess(guess)}')\n",
    "\n",
    "    while True:\n",
    "        try:\n",
    "            awarded_black = int(input(\"Black pegs (0-4): \"))\n",
    "            if n_spaces >= awarded_black >= 0:\n",
    "                break\n",
    "        except ValueError:\n",
    "            pass\n",
    "\n",
    "    if awarded_black == n_spaces:\n",
    "        print(\"Correct guess!\")\n",
    "        break\n",
    "\n",
    "    max_white = n_spaces - awarded_black\n",
    "    while True:\n",
    "        try:\n",
    "            awarded_white = int(input(f\"White pegs (0-{max_white}): \"))\n",
    "            if max_white >= awarded_white >= 0:\n",
    "                break\n",
    "        except ValueError:\n",
    "            pass\n",
    "\n",
    "    passed = []\n",
    "    for pos in S:\n",
    "        if awards(guess, pos) == [awarded_black, awarded_white]:\n",
    "            passed.append(pos)\n",
    "    S = passed\n",
    "\n",
    "    scores = {}\n",
    "    for pos_guess in S:\n",
    "        responses = {}\n",
    "        for pos_ans in S:\n",
    "            response = tuple(awards(pos_guess, pos_ans))\n",
    "            responses[response] = responses.get(response, 0) + 1\n",
    "        scores[pos_guess] = max(responses.values())\n",
    "\n",
    "    try:\n",
    "        best = min(scores.values())\n",
    "        guess = random.choice([pos_guess for pos_guess in scores.keys() if scores[pos_guess] == best])\n",
    "    except ValueError:\n",
    "        print(\"No possibilities left.\")\n",
    "        break\n",
    "\n",
    "    go += 1"
   ]
  },
  {
   "cell_type": "code",
   "execution_count": 2,
   "id": "eb427747-a461-413b-8bd8-69a06773dd2a",
   "metadata": {},
   "outputs": [
    {
     "name": "stdout",
     "output_type": "stream",
     "text": [
      "\n",
      "Statistics:\n",
      "Number of games: 1000\n",
      "Wins: 1000\n",
      "Losses: 0\n",
      "Average number of guesses: 3.481\n"
     ]
    }
   ],
   "source": [
    "# Test the algorithm for n Games\n",
    "\n",
    "import itertools\n",
    "import random\n",
    "\n",
    "def awards(guess, code):\n",
    "    black = sum(g == c for g, c in zip(guess, code))\n",
    "    white = sum(min(guess.count(c), code.count(c)) for c in set(guess)) - black\n",
    "    return [black, white]\n",
    "\n",
    "colors = ['blue', 'green', 'red', 'yellow', 'light blue', 'orange']\n",
    "n_spaces = 4\n",
    "\n",
    "def printable_guess(guess):\n",
    "    return ' '.join(guess)\n",
    "\n",
    "n_games = 1000\n",
    "total_guesses = 0\n",
    "wins = 0\n",
    "\n",
    "for game in range(n_games):\n",
    "    S = list(itertools.product(colors, repeat=n_spaces))\n",
    "    secret_code = random.choice(S)\n",
    "\n",
    "    go = 0\n",
    "    playing = True\n",
    "    guess = random.choice(S)\n",
    "\n",
    "    while playing:\n",
    "        #print(f'Game {game+1}, Guess {go + 1}: {printable_guess(guess)}')\n",
    "\n",
    "        awarded_black = awards(guess, secret_code)[0]\n",
    "        if awarded_black == n_spaces:\n",
    "            #print(\"Correct guess!\")\n",
    "            wins += 1\n",
    "            break\n",
    "\n",
    "        awarded_white = awards(guess, secret_code)[1]\n",
    "\n",
    "        passed = []\n",
    "        for pos in S:\n",
    "            if awards(guess, pos) == [awarded_black, awarded_white]:\n",
    "                passed.append(pos)\n",
    "        S = passed\n",
    "\n",
    "        scores = {}\n",
    "        for pos_guess in S:\n",
    "            responses = {}\n",
    "            for pos_ans in S:\n",
    "                response = tuple(awards(pos_guess, pos_ans))\n",
    "                responses[response] = responses.get(response, 0) + 1\n",
    "            scores[pos_guess] = max(responses.values())\n",
    "\n",
    "        try:\n",
    "            best = min(scores.values())\n",
    "            guess = random.choice([pos_guess for pos_guess in scores.keys() if scores[pos_guess] == best])\n",
    "        except ValueError:\n",
    "            print(\"No possibilities left.\")\n",
    "            break\n",
    "\n",
    "        go += 1\n",
    "\n",
    "    total_guesses += go\n",
    "\n",
    "average_guesses = total_guesses / n_games\n",
    "print(f'\\nStatistics:\\nNumber of games: {n_games}\\nWins: {wins}\\nLosses: {n_games - wins}\\nAverage number of guesses: {average_guesses}')"
   ]
  },
  {
   "cell_type": "code",
   "execution_count": null,
   "id": "c37c9537-d73a-4e6b-a85d-b228170715bb",
   "metadata": {},
   "outputs": [],
   "source": []
  }
 ],
 "metadata": {
  "kernelspec": {
   "display_name": "Python 3 (ipykernel)",
   "language": "python",
   "name": "python3"
  },
  "language_info": {
   "codemirror_mode": {
    "name": "ipython",
    "version": 3
   },
   "file_extension": ".py",
   "mimetype": "text/x-python",
   "name": "python",
   "nbconvert_exporter": "python",
   "pygments_lexer": "ipython3",
   "version": "3.9.16"
  }
 },
 "nbformat": 4,
 "nbformat_minor": 5
}
